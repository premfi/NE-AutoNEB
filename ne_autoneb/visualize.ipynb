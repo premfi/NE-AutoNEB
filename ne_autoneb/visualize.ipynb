{
 "cells": [
  {
   "cell_type": "code",
   "execution_count": null,
   "metadata": {},
   "outputs": [],
   "source": [
    "import pickle\n",
    "\n",
    "# specify which graph to load\n",
    "graph_name = \"example_fashionmnist\"\n",
    "with open(f\"graphs/{graph_name}.pickle\", \"rb\") as f:\n",
    "    graph = pickle.load(f)"
   ]
  },
  {
   "cell_type": "code",
   "execution_count": null,
   "metadata": {},
   "outputs": [],
   "source": [
    "from plots import plot_loss, plot_embedding\n",
    "\n",
    "# plot loss of the graph, including the course of the loss during the optimization\n",
    "plot_loss(graph)"
   ]
  },
  {
   "cell_type": "code",
   "execution_count": null,
   "metadata": {},
   "outputs": [],
   "source": [
    "y_data = y_train_fashionmnist # load the labels of the dataset used for the graph\n",
    "\n",
    "# plot one particular embedding with colors by class, including a colorbar with optional label names\n",
    "plot_embedding(graph.[1][2][\"path_coords\"][4], y_data)"
   ]
  },
  {
   "cell_type": "code",
   "execution_count": null,
   "metadata": {},
   "outputs": [],
   "source": []
  }
 ],
 "metadata": {
  "kernelspec": {
   "display_name": "Python 3",
   "language": "python",
   "name": "python3"
  },
  "language_info": {
   "codemirror_mode": {
    "name": "ipython",
    "version": 3
   },
   "file_extension": ".py",
   "mimetype": "text/x-python",
   "name": "python",
   "nbconvert_exporter": "python",
   "pygments_lexer": "ipython3",
   "version": "3.11.7"
  }
 },
 "nbformat": 4,
 "nbformat_minor": 2
}
