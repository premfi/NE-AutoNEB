{
 "cells": [
  {
   "cell_type": "code",
   "execution_count": null,
   "metadata": {},
   "outputs": [],
   "source": [
    "from losses import UMAP_precomputed_loss, TSNE_precomputed_loss\n",
    "from autoneb import autoneb"
   ]
  },
  {
   "cell_type": "code",
   "execution_count": null,
   "metadata": {},
   "outputs": [],
   "source": [
    "x_data = X_train_fashionmnist # load your preferred dataset here, x values\n",
    "y_data = y_train_fashionmnist # load your preferred dataset here, labels"
   ]
  },
  {
   "cell_type": "code",
   "execution_count": null,
   "metadata": {},
   "outputs": [],
   "source": [
    "# several instances of the UMAP_precomputed_loss class with different parameters can exist simultaneously\n",
    "fashion_UMAP_loss = UMAP_precomputed_loss(x_data, y_data)\n",
    "\n",
    "# several instances of the TSNE_precomputed_loss class with different parameters can exist simultaneously\n",
    "fashion_TSNE_loss = TSNE_precomputed_loss(x_data, y_data)\n",
    "\n",
    "# run autoneb, connecting two embeddings. Use suitable loss instance\n",
    "autoneb(x_data[5], x_data[17], fashion_UMAP_loss, config=\"configs/example_config.yaml\")"
   ]
  },
  {
   "cell_type": "code",
   "execution_count": null,
   "metadata": {},
   "outputs": [],
   "source": []
  }
 ],
 "metadata": {
  "kernelspec": {
   "display_name": "Python 3",
   "language": "python",
   "name": "python3"
  },
  "language_info": {
   "codemirror_mode": {
    "name": "ipython",
    "version": 3
   },
   "file_extension": ".py",
   "mimetype": "text/x-python",
   "name": "python",
   "nbconvert_exporter": "python",
   "pygments_lexer": "ipython3",
   "version": "3.11.7"
  }
 },
 "nbformat": 4,
 "nbformat_minor": 2
}
